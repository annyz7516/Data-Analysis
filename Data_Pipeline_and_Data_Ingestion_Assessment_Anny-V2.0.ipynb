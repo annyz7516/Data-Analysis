{
 "cells": [
  {
   "cell_type": "markdown",
   "id": "b3c85431",
   "metadata": {},
   "source": [
    "#### Context: Explore US Bikeshare Data\n",
    " \n",
    "You are assigned the task to analyze the Bicycle-sharing data for three major cities in the United States—Chicago, New York City, and Washington.\n",
    "The datasets used for this project contain bike share data for the first six months of 2017. The csv files can be found in the same folder. The data is provided by Motivate, which is a bike share system provider for many cities in the United States. The data files for all three cities contain the same six columns:\n",
    "\n",
    "●      Start Time (e.g., 2017-01-01 00:07:57)\n",
    "\n",
    "●      End Time (e.g., 2017-01-01 00:20:53)\n",
    "\n",
    "●      Trip Duration (in seconds - e.g., 776)\n",
    "\n",
    "●      Start Station (e.g., Broadway & Barry Ave)\n",
    "\n",
    "●      End Station (e.g., Sedgwick St & North Ave)\n",
    "\n",
    "●      User Type (Subscriber or Customer)\n",
    " \n",
    "The Chicago and New York City files also contain the following two columns:\n",
    "    \n",
    "●      Gender\n",
    "\n",
    "●      Birth Year\n",
    "\n",
    "\n",
    "\n",
    "\n",
    "\n",
    "\n"
   ]
  },
  {
   "cell_type": "code",
   "execution_count": 1,
   "id": "65d72751",
   "metadata": {},
   "outputs": [],
   "source": [
    "import pandas as pd\n",
    "import numpy as np\n",
    "from datetime import datetime"
   ]
  },
  {
   "cell_type": "code",
   "execution_count": 2,
   "id": "cf4e5e8c",
   "metadata": {},
   "outputs": [],
   "source": [
    "df_chi = pd.read_csv('data/RR-DPL-UA1 - chicago.csv')\n",
    "df_nyc = pd.read_csv('data/RR-DPL-AU1 - new_york_city.csv')\n",
    "df_wc = pd.read_csv('data/RR-DPL-AU1 - washington.csv')"
   ]
  },
  {
   "cell_type": "code",
   "execution_count": 3,
   "id": "16923dfa",
   "metadata": {},
   "outputs": [
    {
     "name": "stdout",
     "output_type": "stream",
     "text": [
      "<class 'pandas.core.frame.DataFrame'>\n",
      "RangeIndex: 1551505 entries, 0 to 1551504\n",
      "Data columns (total 8 columns):\n",
      " #   Column         Non-Null Count    Dtype  \n",
      "---  ------         --------------    -----  \n",
      " 0   Start Time     1551505 non-null  object \n",
      " 1   End Time       1551505 non-null  object \n",
      " 2   Trip Duration  1551505 non-null  int64  \n",
      " 3   Start Station  1551505 non-null  object \n",
      " 4   End Station    1551505 non-null  object \n",
      " 5   User Type      1551505 non-null  object \n",
      " 6   Gender         1234638 non-null  object \n",
      " 7   Birth Year     1234822 non-null  float64\n",
      "dtypes: float64(1), int64(1), object(6)\n",
      "memory usage: 94.7+ MB\n"
     ]
    }
   ],
   "source": [
    "df_chi.info()"
   ]
  },
  {
   "cell_type": "code",
   "execution_count": 4,
   "id": "21d5759f",
   "metadata": {},
   "outputs": [
    {
     "name": "stdout",
     "output_type": "stream",
     "text": [
      "<class 'pandas.core.frame.DataFrame'>\n",
      "RangeIndex: 6816254 entries, 0 to 6816253\n",
      "Data columns (total 8 columns):\n",
      " #   Column         Dtype  \n",
      "---  ------         -----  \n",
      " 0   Start Time     object \n",
      " 1   End Time       object \n",
      " 2   Trip Duration  int64  \n",
      " 3   Start Station  object \n",
      " 4   End Station    object \n",
      " 5   User Type      object \n",
      " 6   Gender         object \n",
      " 7   Birth Year     float64\n",
      "dtypes: float64(1), int64(1), object(6)\n",
      "memory usage: 416.0+ MB\n"
     ]
    }
   ],
   "source": [
    "df_nyc.info()"
   ]
  },
  {
   "cell_type": "code",
   "execution_count": 5,
   "id": "1b952680",
   "metadata": {},
   "outputs": [
    {
     "name": "stdout",
     "output_type": "stream",
     "text": [
      "<class 'pandas.core.frame.DataFrame'>\n",
      "RangeIndex: 1751452 entries, 0 to 1751451\n",
      "Data columns (total 6 columns):\n",
      " #   Column         Dtype  \n",
      "---  ------         -----  \n",
      " 0   Start Time     object \n",
      " 1   End Time       object \n",
      " 2   Trip Duration  float64\n",
      " 3   Start Station  object \n",
      " 4   End Station    object \n",
      " 5   User Type      object \n",
      "dtypes: float64(1), object(5)\n",
      "memory usage: 80.2+ MB\n"
     ]
    }
   ],
   "source": [
    "df_wc.info()"
   ]
  },
  {
   "cell_type": "code",
   "execution_count": 6,
   "id": "c402fe0d",
   "metadata": {},
   "outputs": [
    {
     "name": "stdout",
     "output_type": "stream",
     "text": [
      "<class 'pandas.core.frame.DataFrame'>\n",
      "Int64Index: 10119211 entries, 0 to 1751451\n",
      "Data columns (total 6 columns):\n",
      " #   Column         Dtype  \n",
      "---  ------         -----  \n",
      " 0   Start Time     object \n",
      " 1   End Time       object \n",
      " 2   Trip Duration  float64\n",
      " 3   Start Station  object \n",
      " 4   End Station    object \n",
      " 5   User Type      object \n",
      "dtypes: float64(1), object(5)\n",
      "memory usage: 540.4+ MB\n"
     ]
    }
   ],
   "source": [
    "# Combine 3 dataframes with same column names using concat()\n",
    "df = pd.concat([df_chi, df_nyc, df_wc], axis=0, join='inner')\n",
    "df.info()"
   ]
  },
  {
   "cell_type": "code",
   "execution_count": 7,
   "id": "febc43be",
   "metadata": {},
   "outputs": [
    {
     "name": "stdout",
     "output_type": "stream",
     "text": [
      "True\n"
     ]
    }
   ],
   "source": [
    "# verify combined dataframe contains all data from 3 dataframes\n",
    "print((df_chi.shape[0]+df_nyc.shape[0]+df_wc.shape[0])==(df.shape[0]))"
   ]
  },
  {
   "cell_type": "code",
   "execution_count": 8,
   "id": "554d501a",
   "metadata": {},
   "outputs": [],
   "source": [
    "# Convert the date column to datetime64\n",
    "df['s_time'] = pd.to_datetime(df['Start Time'])\n",
    "df['e_time'] = pd.to_datetime(df['End Time'])\n",
    "\n",
    "# Set s_time column as index\n",
    "df.set_index('s_time',inplace=True)"
   ]
  },
  {
   "cell_type": "code",
   "execution_count": 9,
   "id": "3a7f3683",
   "metadata": {},
   "outputs": [
    {
     "name": "stdout",
     "output_type": "stream",
     "text": [
      "<class 'pandas.core.frame.DataFrame'>\n",
      "DatetimeIndex: 10119211 entries, 2017-01-01 00:00:36 to 2017-06-30 12:59:59\n",
      "Data columns (total 7 columns):\n",
      " #   Column         Dtype         \n",
      "---  ------         -----         \n",
      " 0   Start Time     object        \n",
      " 1   End Time       object        \n",
      " 2   Trip Duration  float64       \n",
      " 3   Start Station  object        \n",
      " 4   End Station    object        \n",
      " 5   User Type      object        \n",
      " 6   e_time         datetime64[ns]\n",
      "dtypes: datetime64[ns](1), float64(1), object(5)\n",
      "memory usage: 617.6+ MB\n"
     ]
    }
   ],
   "source": [
    "df.info()"
   ]
  },
  {
   "cell_type": "code",
   "execution_count": 10,
   "id": "7a46eb9f",
   "metadata": {},
   "outputs": [
    {
     "data": {
      "text/html": [
       "<div>\n",
       "<style scoped>\n",
       "    .dataframe tbody tr th:only-of-type {\n",
       "        vertical-align: middle;\n",
       "    }\n",
       "\n",
       "    .dataframe tbody tr th {\n",
       "        vertical-align: top;\n",
       "    }\n",
       "\n",
       "    .dataframe thead th {\n",
       "        text-align: right;\n",
       "    }\n",
       "</style>\n",
       "<table border=\"1\" class=\"dataframe\">\n",
       "  <thead>\n",
       "    <tr style=\"text-align: right;\">\n",
       "      <th></th>\n",
       "      <th>Trip Duration</th>\n",
       "      <th>Start Station</th>\n",
       "      <th>End Station</th>\n",
       "      <th>User Type</th>\n",
       "      <th>e_time</th>\n",
       "    </tr>\n",
       "    <tr>\n",
       "      <th>s_time</th>\n",
       "      <th></th>\n",
       "      <th></th>\n",
       "      <th></th>\n",
       "      <th></th>\n",
       "      <th></th>\n",
       "    </tr>\n",
       "  </thead>\n",
       "  <tbody>\n",
       "    <tr>\n",
       "      <th>2017-01-01 00:00:36</th>\n",
       "      <td>356.0</td>\n",
       "      <td>Canal St &amp; Taylor St</td>\n",
       "      <td>Canal St &amp; Monroe St (*)</td>\n",
       "      <td>Customer</td>\n",
       "      <td>2017-01-01 00:06:32</td>\n",
       "    </tr>\n",
       "    <tr>\n",
       "      <th>2017-01-01 00:02:54</th>\n",
       "      <td>327.0</td>\n",
       "      <td>Larrabee St &amp; Menomonee St</td>\n",
       "      <td>Sheffield Ave &amp; Kingsbury St</td>\n",
       "      <td>Subscriber</td>\n",
       "      <td>2017-01-01 00:08:21</td>\n",
       "    </tr>\n",
       "    <tr>\n",
       "      <th>2017-01-01 00:06:06</th>\n",
       "      <td>745.0</td>\n",
       "      <td>Orleans St &amp; Chestnut St (NEXT Apts)</td>\n",
       "      <td>Ashland Ave &amp; Blackhawk St</td>\n",
       "      <td>Subscriber</td>\n",
       "      <td>2017-01-01 00:18:31</td>\n",
       "    </tr>\n",
       "  </tbody>\n",
       "</table>\n",
       "</div>"
      ],
      "text/plain": [
       "                     Trip Duration                         Start Station  \\\n",
       "s_time                                                                     \n",
       "2017-01-01 00:00:36          356.0                  Canal St & Taylor St   \n",
       "2017-01-01 00:02:54          327.0            Larrabee St & Menomonee St   \n",
       "2017-01-01 00:06:06          745.0  Orleans St & Chestnut St (NEXT Apts)   \n",
       "\n",
       "                                      End Station   User Type  \\\n",
       "s_time                                                          \n",
       "2017-01-01 00:00:36      Canal St & Monroe St (*)    Customer   \n",
       "2017-01-01 00:02:54  Sheffield Ave & Kingsbury St  Subscriber   \n",
       "2017-01-01 00:06:06    Ashland Ave & Blackhawk St  Subscriber   \n",
       "\n",
       "                                 e_time  \n",
       "s_time                                   \n",
       "2017-01-01 00:00:36 2017-01-01 00:06:32  \n",
       "2017-01-01 00:02:54 2017-01-01 00:08:21  \n",
       "2017-01-01 00:06:06 2017-01-01 00:18:31  "
      ]
     },
     "execution_count": 10,
     "metadata": {},
     "output_type": "execute_result"
    }
   ],
   "source": [
    "df = df.drop(columns = ['Start Time', 'End Time'])\n",
    "df.head(3)"
   ]
  },
  {
   "cell_type": "markdown",
   "id": "b4ae32f6",
   "metadata": {},
   "source": [
    "#### Task1: What is the most popular month for start time?"
   ]
  },
  {
   "cell_type": "code",
   "execution_count": 11,
   "id": "e326cfbb",
   "metadata": {},
   "outputs": [
    {
     "data": {
      "text/plain": [
       "s_time\n",
       "6    2635721\n",
       "5    2209083\n",
       "4    1950220\n",
       "2    1184293\n",
       "3    1126472\n",
       "1    1013422\n",
       "dtype: int64"
      ]
     },
     "execution_count": 11,
     "metadata": {},
     "output_type": "execute_result"
    }
   ],
   "source": [
    "df_month = df.groupby(df.index.month).size().sort_values(ascending=False)\n",
    "df_month"
   ]
  },
  {
   "cell_type": "markdown",
   "id": "659d3100",
   "metadata": {},
   "source": [
    "#### The most popular month is June."
   ]
  },
  {
   "cell_type": "markdown",
   "id": "741455ce",
   "metadata": {},
   "source": [
    "#### Task2: What is the most popular day of week (Monday, Tuesday, etc.) for start time?"
   ]
  },
  {
   "cell_type": "code",
   "execution_count": 30,
   "id": "09d1e358",
   "metadata": {},
   "outputs": [
    {
     "data": {
      "text/plain": [
       "s_time\n",
       "Wednesday    1680186\n",
       "Thursday     1564066\n",
       "Tuesday      1493367\n",
       "dtype: int64"
      ]
     },
     "execution_count": 30,
     "metadata": {},
     "output_type": "execute_result"
    }
   ],
   "source": [
    "df_day_name = df.groupby(df.index.day_name()).size().sort_values(ascending=False)  # .dayofweek .day_name() 有括号因为它有参数改变语言，默认英语\n",
    "df_day_name.head(3)"
   ]
  },
  {
   "cell_type": "markdown",
   "id": "4d18e239",
   "metadata": {},
   "source": [
    "#### The most popular day of week is Wednesday."
   ]
  },
  {
   "cell_type": "markdown",
   "id": "bd6c9b70",
   "metadata": {},
   "source": [
    "#### Task3: What is the most popular hour of day for start time?"
   ]
  },
  {
   "cell_type": "code",
   "execution_count": 13,
   "id": "c947131d",
   "metadata": {},
   "outputs": [
    {
     "data": {
      "text/plain": [
       "s_time\n",
       "17    948086\n",
       "8     876159\n",
       "18    832063\n",
       "dtype: int64"
      ]
     },
     "execution_count": 13,
     "metadata": {},
     "output_type": "execute_result"
    }
   ],
   "source": [
    "df_hour = df.groupby(df.index.hour).size().sort_values(ascending=False)\n",
    "df_hour.head(3)"
   ]
  },
  {
   "cell_type": "markdown",
   "id": "475648db",
   "metadata": {},
   "source": [
    "#### The most popular hour of day is 17:00."
   ]
  },
  {
   "cell_type": "markdown",
   "id": "8c188a15",
   "metadata": {},
   "source": [
    "#### Task4: What is the total trip duration and average trip duration?"
   ]
  },
  {
   "cell_type": "code",
   "execution_count": 14,
   "id": "ae956e6f",
   "metadata": {},
   "outputs": [
    {
     "name": "stdout",
     "output_type": "stream",
     "text": [
      "Total trip duration = 10213563095 seconds\n"
     ]
    }
   ],
   "source": [
    "total_duration = df['Trip Duration'].sum()\n",
    "print(f'Total trip duration = {round(total_duration)} seconds')"
   ]
  },
  {
   "cell_type": "code",
   "execution_count": 15,
   "id": "7c7118bd",
   "metadata": {},
   "outputs": [
    {
     "name": "stdout",
     "output_type": "stream",
     "text": [
      "Average trip duration = 1009 seconds\n"
     ]
    }
   ],
   "source": [
    "avg_duration = df['Trip Duration'].mean()\n",
    "print(f'Average trip duration = {round(avg_duration)} seconds')"
   ]
  },
  {
   "cell_type": "markdown",
   "id": "19d8319e",
   "metadata": {},
   "source": [
    "#### Task5: What is the most popular start station and most popular end station?"
   ]
  },
  {
   "cell_type": "code",
   "execution_count": 16,
   "id": "d11682d2",
   "metadata": {},
   "outputs": [
    {
     "data": {
      "text/plain": [
       "Start Station\n",
       "Pershing Square North             71108\n",
       "E 17 St & Broadway                48311\n",
       "Broadway & E 22 St                48044\n",
       "W 21 St & 6 Ave                   46068\n",
       "West St & Chambers St             43716\n",
       "                                  ...  \n",
       "Ashland Ave & 66th St                 2\n",
       "NYCBS Depot - STY - Valet Scan        2\n",
       "May St & 69th St                      2\n",
       "State St & 76th St                    2\n",
       "Ashland Ave & Garfield Blvd           1\n",
       "Name: Start Station, Length: 1713, dtype: int64"
      ]
     },
     "execution_count": 16,
     "metadata": {},
     "output_type": "execute_result"
    }
   ],
   "source": [
    "df_s_station = df['Start Station'].groupby(by=df['Start Station']).count().sort_values(ascending=False)\n",
    "df_s_station"
   ]
  },
  {
   "cell_type": "code",
   "execution_count": 17,
   "id": "120bc82f",
   "metadata": {},
   "outputs": [
    {
     "name": "stdout",
     "output_type": "stream",
     "text": [
      "The most popular start station is Pershing Square North.\n"
     ]
    }
   ],
   "source": [
    "print(f\"The most popular start station is {df_s_station.index[0]}.\")"
   ]
  },
  {
   "cell_type": "markdown",
   "id": "214a91b7",
   "metadata": {},
   "source": [
    "#### The most popular start station is Pershing Square North."
   ]
  },
  {
   "cell_type": "code",
   "execution_count": 18,
   "id": "9069a1c8",
   "metadata": {},
   "outputs": [
    {
     "data": {
      "text/plain": [
       "End Station\n",
       "Pershing Square North     70048\n",
       "Broadway & E 22 St        52409\n",
       "E 17 St & Broadway        51587\n",
       "W 21 St & 6 Ave           46686\n",
       "West St & Chambers St     45825\n",
       "                          ...  \n",
       "Phillips Ave & 79th St        2\n",
       "State St & 76th St            1\n",
       "JC Medical Center             1\n",
       "E 15 St & Irving Pl           1\n",
       "Jersey & 3rd                  1\n",
       "Name: End Station, Length: 1731, dtype: int64"
      ]
     },
     "execution_count": 18,
     "metadata": {},
     "output_type": "execute_result"
    }
   ],
   "source": [
    "df_e_station = df['End Station'].groupby(by=df['End Station']).count().sort_values(ascending=False)\n",
    "df_e_station"
   ]
  },
  {
   "cell_type": "code",
   "execution_count": 19,
   "id": "b35ba8c0",
   "metadata": {},
   "outputs": [
    {
     "name": "stdout",
     "output_type": "stream",
     "text": [
      "The most popular end station is Pershing Square North.\n"
     ]
    }
   ],
   "source": [
    "print(f\"The most popular end station is {df_e_station.index[0]}.\")"
   ]
  },
  {
   "cell_type": "markdown",
   "id": "1c41af13",
   "metadata": {},
   "source": [
    "#### The most popular end station is Pershing Square North."
   ]
  },
  {
   "cell_type": "markdown",
   "id": "18b8d9a8",
   "metadata": {},
   "source": [
    "#### Task6: What is the most popular trip?"
   ]
  },
  {
   "cell_type": "code",
   "execution_count": 20,
   "id": "786ccbc8",
   "metadata": {},
   "outputs": [
    {
     "data": {
      "text/plain": [
       "Start Station                                          End Station                                          \n",
       "Lake Shore Dr & Monroe St                              Streeter Dr & Grand Ave                                  4647\n",
       "Jefferson Dr & 14th St SW                              Jefferson Dr & 14th St SW                                4047\n",
       "Streeter Dr & Grand Ave                                Streeter Dr & Grand Ave                                  3853\n",
       "E 7 St & Avenue A                                      Cooper Square & E 7 St                                   3641\n",
       "Smithsonian-National Mall / Jefferson Dr & 12th St SW  Smithsonian-National Mall / Jefferson Dr & 12th St SW    3370\n",
       "                                                                                                                ... \n",
       "Graham Ave & Herbert St                                8 Ave & W 16 St                                             1\n",
       "                                                       9 St & 44 Rd                                                1\n",
       "                                                       Allen St & Hester St                                        1\n",
       "                                                       Allen St & Rivington St                                     1\n",
       "Carroll St & Bond St                                   E 17 St & Broadway                                          1\n",
       "Length: 358094, dtype: int64"
      ]
     },
     "execution_count": 20,
     "metadata": {},
     "output_type": "execute_result"
    }
   ],
   "source": [
    "df_trip = df.groupby(['Start Station','End Station']).size().sort_values(ascending=False)\n",
    "df_trip"
   ]
  },
  {
   "cell_type": "code",
   "execution_count": 21,
   "id": "73e7cc1e",
   "metadata": {},
   "outputs": [],
   "source": [
    "# transform index into normal columns\n",
    "df_trip = df_trip.reset_index()"
   ]
  },
  {
   "cell_type": "code",
   "execution_count": 22,
   "id": "fe7bd3a0",
   "metadata": {},
   "outputs": [
    {
     "name": "stdout",
     "output_type": "stream",
     "text": [
      "The most popular trip is start at Streeter Dr & Grand Ave and end at 4647.\n"
     ]
    }
   ],
   "source": [
    "print(f\"The most popular trip is start at {df_trip.iloc[0,1]} and end at {df_trip.iloc[0,2]}.\")"
   ]
  },
  {
   "cell_type": "markdown",
   "id": "25bd9d36",
   "metadata": {},
   "source": [
    "#### The most popular trip is start at Streeter Dr & Grand Ave and end at 4647."
   ]
  },
  {
   "cell_type": "markdown",
   "id": "d2cf7199",
   "metadata": {},
   "source": [
    "#### Task7: What are the counts of each user type?\n"
   ]
  },
  {
   "cell_type": "code",
   "execution_count": 23,
   "id": "b3c4421d",
   "metadata": {},
   "outputs": [],
   "source": [
    "df_user_type = df.groupby(df['User Type']).size()"
   ]
  },
  {
   "cell_type": "code",
   "execution_count": 24,
   "id": "c2687b09",
   "metadata": {},
   "outputs": [
    {
     "name": "stdout",
     "output_type": "stream",
     "text": [
      "counts of Customer is 1463607.\n",
      "counts of Dependent is 4.\n",
      "counts of Subscriber is 8639691.\n"
     ]
    }
   ],
   "source": [
    "print(f\"counts of Customer is {df_user_type['Customer']}.\")\n",
    "print(f\"counts of Dependent is {df_user_type['Dependent']}.\")\n",
    "print(f\"counts of Subscriber is {df_user_type['Subscriber']}.\")"
   ]
  },
  {
   "cell_type": "code",
   "execution_count": null,
   "id": "b3b3fc5c",
   "metadata": {},
   "outputs": [],
   "source": []
  }
 ],
 "metadata": {
  "kernelspec": {
   "display_name": "Python 3 (ipykernel)",
   "language": "python",
   "name": "python3"
  },
  "language_info": {
   "codemirror_mode": {
    "name": "ipython",
    "version": 3
   },
   "file_extension": ".py",
   "mimetype": "text/x-python",
   "name": "python",
   "nbconvert_exporter": "python",
   "pygments_lexer": "ipython3",
   "version": "3.9.7"
  }
 },
 "nbformat": 4,
 "nbformat_minor": 5
}

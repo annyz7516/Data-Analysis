{
 "cells": [
  {
   "cell_type": "markdown",
   "id": "b3c85431",
   "metadata": {},
   "source": [
    "#### Context: Explore US Bikeshare Data\n",
    " \n",
    "You are assigned the task to analyze the Bicycle-sharing data for three major cities in the United States—Chicago, New York City, and Washington.\n",
    "The datasets used for this project contain bike share data for the first six months of 2017. The csv files can be found in the same folder. The data is provided by Motivate, which is a bike share system provider for many cities in the United States. The data files for all three cities contain the same six columns:\n",
    "\n",
    "●      Start Time (e.g., 2017-01-01 00:07:57)\n",
    "\n",
    "●      End Time (e.g., 2017-01-01 00:20:53)\n",
    "\n",
    "●      Trip Duration (in seconds - e.g., 776)\n",
    "\n",
    "●      Start Station (e.g., Broadway & Barry Ave)\n",
    "\n",
    "●      End Station (e.g., Sedgwick St & North Ave)\n",
    "\n",
    "●      User Type (Subscriber or Customer)\n",
    " \n",
    "The Chicago and New York City files also contain the following two columns:\n",
    "    \n",
    "●      Gender\n",
    "\n",
    "●      Birth Year\n",
    "\n",
    "\n",
    "\n",
    "\n",
    "\n",
    "\n"
   ]
  },
  {
   "cell_type": "code",
   "execution_count": 1,
   "id": "65d72751",
   "metadata": {},
   "outputs": [],
   "source": [
    "import pandas as pd\n",
    "import numpy as np"
   ]
  },
  {
   "cell_type": "code",
   "execution_count": 2,
   "id": "cf4e5e8c",
   "metadata": {},
   "outputs": [],
   "source": [
    "df_chi = pd.read_csv('data/RR-DPL-UA1 - chicago.csv')\n",
    "df_nyc = pd.read_csv('data/RR-DPL-AU1 - new_york_city.csv')\n",
    "df_wc = pd.read_csv('data/RR-DPL-AU1 - washington.csv')"
   ]
  },
  {
   "cell_type": "code",
   "execution_count": 3,
   "id": "16923dfa",
   "metadata": {},
   "outputs": [
    {
     "name": "stdout",
     "output_type": "stream",
     "text": [
      "<class 'pandas.core.frame.DataFrame'>\n",
      "RangeIndex: 1551505 entries, 0 to 1551504\n",
      "Data columns (total 8 columns):\n",
      " #   Column         Non-Null Count    Dtype  \n",
      "---  ------         --------------    -----  \n",
      " 0   Start Time     1551505 non-null  object \n",
      " 1   End Time       1551505 non-null  object \n",
      " 2   Trip Duration  1551505 non-null  int64  \n",
      " 3   Start Station  1551505 non-null  object \n",
      " 4   End Station    1551505 non-null  object \n",
      " 5   User Type      1551505 non-null  object \n",
      " 6   Gender         1234638 non-null  object \n",
      " 7   Birth Year     1234822 non-null  float64\n",
      "dtypes: float64(1), int64(1), object(6)\n",
      "memory usage: 94.7+ MB\n"
     ]
    }
   ],
   "source": [
    "df_chi.info()"
   ]
  },
  {
   "cell_type": "code",
   "execution_count": 4,
   "id": "21d5759f",
   "metadata": {},
   "outputs": [
    {
     "name": "stdout",
     "output_type": "stream",
     "text": [
      "<class 'pandas.core.frame.DataFrame'>\n",
      "RangeIndex: 6816254 entries, 0 to 6816253\n",
      "Data columns (total 8 columns):\n",
      " #   Column         Dtype  \n",
      "---  ------         -----  \n",
      " 0   Start Time     object \n",
      " 1   End Time       object \n",
      " 2   Trip Duration  int64  \n",
      " 3   Start Station  object \n",
      " 4   End Station    object \n",
      " 5   User Type      object \n",
      " 6   Gender         object \n",
      " 7   Birth Year     float64\n",
      "dtypes: float64(1), int64(1), object(6)\n",
      "memory usage: 416.0+ MB\n"
     ]
    }
   ],
   "source": [
    "df_nyc.info()"
   ]
  },
  {
   "cell_type": "code",
   "execution_count": 5,
   "id": "1b952680",
   "metadata": {},
   "outputs": [
    {
     "name": "stdout",
     "output_type": "stream",
     "text": [
      "<class 'pandas.core.frame.DataFrame'>\n",
      "RangeIndex: 1751452 entries, 0 to 1751451\n",
      "Data columns (total 6 columns):\n",
      " #   Column         Dtype  \n",
      "---  ------         -----  \n",
      " 0   Start Time     object \n",
      " 1   End Time       object \n",
      " 2   Trip Duration  float64\n",
      " 3   Start Station  object \n",
      " 4   End Station    object \n",
      " 5   User Type      object \n",
      "dtypes: float64(1), object(5)\n",
      "memory usage: 80.2+ MB\n"
     ]
    }
   ],
   "source": [
    "df_wc.info()"
   ]
  },
  {
   "cell_type": "code",
   "execution_count": 6,
   "id": "c402fe0d",
   "metadata": {},
   "outputs": [
    {
     "name": "stdout",
     "output_type": "stream",
     "text": [
      "<class 'pandas.core.frame.DataFrame'>\n",
      "Int64Index: 10119211 entries, 0 to 1751451\n",
      "Data columns (total 6 columns):\n",
      " #   Column         Dtype  \n",
      "---  ------         -----  \n",
      " 0   Start Time     object \n",
      " 1   End Time       object \n",
      " 2   Trip Duration  float64\n",
      " 3   Start Station  object \n",
      " 4   End Station    object \n",
      " 5   User Type      object \n",
      "dtypes: float64(1), object(5)\n",
      "memory usage: 540.4+ MB\n"
     ]
    }
   ],
   "source": [
    "# Combine 3 dataframes with same column names using concat()\n",
    "df = pd.concat([df_chi, df_nyc, df_wc], axis=0, join='inner')\n",
    "df.info()"
   ]
  },
  {
   "cell_type": "code",
   "execution_count": 7,
   "id": "febc43be",
   "metadata": {},
   "outputs": [
    {
     "name": "stdout",
     "output_type": "stream",
     "text": [
      "True\n"
     ]
    }
   ],
   "source": [
    "# verify combined dataframe contains all data from 3 dataframes\n",
    "print((df_chi.shape[0]+df_nyc.shape[0]+df_wc.shape[0])==(df.shape[0]))"
   ]
  },
  {
   "cell_type": "code",
   "execution_count": 8,
   "id": "7a46eb9f",
   "metadata": {},
   "outputs": [
    {
     "data": {
      "text/html": [
       "<div>\n",
       "<style scoped>\n",
       "    .dataframe tbody tr th:only-of-type {\n",
       "        vertical-align: middle;\n",
       "    }\n",
       "\n",
       "    .dataframe tbody tr th {\n",
       "        vertical-align: top;\n",
       "    }\n",
       "\n",
       "    .dataframe thead th {\n",
       "        text-align: right;\n",
       "    }\n",
       "</style>\n",
       "<table border=\"1\" class=\"dataframe\">\n",
       "  <thead>\n",
       "    <tr style=\"text-align: right;\">\n",
       "      <th></th>\n",
       "      <th>Start Time</th>\n",
       "      <th>End Time</th>\n",
       "      <th>Trip Duration</th>\n",
       "      <th>Start Station</th>\n",
       "      <th>End Station</th>\n",
       "      <th>User Type</th>\n",
       "    </tr>\n",
       "  </thead>\n",
       "  <tbody>\n",
       "    <tr>\n",
       "      <th>0</th>\n",
       "      <td>2017-01-01 00:00:36</td>\n",
       "      <td>2017-01-01 00:06:32</td>\n",
       "      <td>356.0</td>\n",
       "      <td>Canal St &amp; Taylor St</td>\n",
       "      <td>Canal St &amp; Monroe St (*)</td>\n",
       "      <td>Customer</td>\n",
       "    </tr>\n",
       "    <tr>\n",
       "      <th>1</th>\n",
       "      <td>2017-01-01 00:02:54</td>\n",
       "      <td>2017-01-01 00:08:21</td>\n",
       "      <td>327.0</td>\n",
       "      <td>Larrabee St &amp; Menomonee St</td>\n",
       "      <td>Sheffield Ave &amp; Kingsbury St</td>\n",
       "      <td>Subscriber</td>\n",
       "    </tr>\n",
       "    <tr>\n",
       "      <th>2</th>\n",
       "      <td>2017-01-01 00:06:06</td>\n",
       "      <td>2017-01-01 00:18:31</td>\n",
       "      <td>745.0</td>\n",
       "      <td>Orleans St &amp; Chestnut St (NEXT Apts)</td>\n",
       "      <td>Ashland Ave &amp; Blackhawk St</td>\n",
       "      <td>Subscriber</td>\n",
       "    </tr>\n",
       "  </tbody>\n",
       "</table>\n",
       "</div>"
      ],
      "text/plain": [
       "            Start Time             End Time  Trip Duration  \\\n",
       "0  2017-01-01 00:00:36  2017-01-01 00:06:32          356.0   \n",
       "1  2017-01-01 00:02:54  2017-01-01 00:08:21          327.0   \n",
       "2  2017-01-01 00:06:06  2017-01-01 00:18:31          745.0   \n",
       "\n",
       "                          Start Station                   End Station  \\\n",
       "0                  Canal St & Taylor St      Canal St & Monroe St (*)   \n",
       "1            Larrabee St & Menomonee St  Sheffield Ave & Kingsbury St   \n",
       "2  Orleans St & Chestnut St (NEXT Apts)    Ashland Ave & Blackhawk St   \n",
       "\n",
       "    User Type  \n",
       "0    Customer  \n",
       "1  Subscriber  \n",
       "2  Subscriber  "
      ]
     },
     "execution_count": 8,
     "metadata": {},
     "output_type": "execute_result"
    }
   ],
   "source": [
    "df.head(3)"
   ]
  },
  {
   "cell_type": "code",
   "execution_count": 9,
   "id": "bffb3c45",
   "metadata": {},
   "outputs": [
    {
     "data": {
      "text/html": [
       "<div>\n",
       "<style scoped>\n",
       "    .dataframe tbody tr th:only-of-type {\n",
       "        vertical-align: middle;\n",
       "    }\n",
       "\n",
       "    .dataframe tbody tr th {\n",
       "        vertical-align: top;\n",
       "    }\n",
       "\n",
       "    .dataframe thead th {\n",
       "        text-align: right;\n",
       "    }\n",
       "</style>\n",
       "<table border=\"1\" class=\"dataframe\">\n",
       "  <thead>\n",
       "    <tr style=\"text-align: right;\">\n",
       "      <th></th>\n",
       "      <th>Trip Duration</th>\n",
       "      <th>Start Station</th>\n",
       "      <th>End Station</th>\n",
       "      <th>User Type</th>\n",
       "      <th>s_time</th>\n",
       "      <th>e_time</th>\n",
       "      <th>s_month</th>\n",
       "      <th>s_weekday</th>\n",
       "      <th>s_hour</th>\n",
       "    </tr>\n",
       "  </thead>\n",
       "  <tbody>\n",
       "    <tr>\n",
       "      <th>0</th>\n",
       "      <td>356.0</td>\n",
       "      <td>Canal St &amp; Taylor St</td>\n",
       "      <td>Canal St &amp; Monroe St (*)</td>\n",
       "      <td>Customer</td>\n",
       "      <td>2017-01-01 00:00:36</td>\n",
       "      <td>2017-01-01 00:06:32</td>\n",
       "      <td>1</td>\n",
       "      <td>6</td>\n",
       "      <td>0</td>\n",
       "    </tr>\n",
       "    <tr>\n",
       "      <th>1</th>\n",
       "      <td>327.0</td>\n",
       "      <td>Larrabee St &amp; Menomonee St</td>\n",
       "      <td>Sheffield Ave &amp; Kingsbury St</td>\n",
       "      <td>Subscriber</td>\n",
       "      <td>2017-01-01 00:02:54</td>\n",
       "      <td>2017-01-01 00:08:21</td>\n",
       "      <td>1</td>\n",
       "      <td>6</td>\n",
       "      <td>0</td>\n",
       "    </tr>\n",
       "    <tr>\n",
       "      <th>2</th>\n",
       "      <td>745.0</td>\n",
       "      <td>Orleans St &amp; Chestnut St (NEXT Apts)</td>\n",
       "      <td>Ashland Ave &amp; Blackhawk St</td>\n",
       "      <td>Subscriber</td>\n",
       "      <td>2017-01-01 00:06:06</td>\n",
       "      <td>2017-01-01 00:18:31</td>\n",
       "      <td>1</td>\n",
       "      <td>6</td>\n",
       "      <td>0</td>\n",
       "    </tr>\n",
       "  </tbody>\n",
       "</table>\n",
       "</div>"
      ],
      "text/plain": [
       "   Trip Duration                         Start Station  \\\n",
       "0          356.0                  Canal St & Taylor St   \n",
       "1          327.0            Larrabee St & Menomonee St   \n",
       "2          745.0  Orleans St & Chestnut St (NEXT Apts)   \n",
       "\n",
       "                    End Station   User Type              s_time  \\\n",
       "0      Canal St & Monroe St (*)    Customer 2017-01-01 00:00:36   \n",
       "1  Sheffield Ave & Kingsbury St  Subscriber 2017-01-01 00:02:54   \n",
       "2    Ashland Ave & Blackhawk St  Subscriber 2017-01-01 00:06:06   \n",
       "\n",
       "               e_time  s_month  s_weekday  s_hour  \n",
       "0 2017-01-01 00:06:32        1          6       0  \n",
       "1 2017-01-01 00:08:21        1          6       0  \n",
       "2 2017-01-01 00:18:31        1          6       0  "
      ]
     },
     "execution_count": 9,
     "metadata": {},
     "output_type": "execute_result"
    }
   ],
   "source": [
    "# tranform time columns to datatime type using pd.to_datetime\n",
    "df[['s_time','e_time']] = df[['Start Time','End Time']].apply(pd.to_datetime)\n",
    "\n",
    "# add month, weekday, hour of start time columns to dataframe.\n",
    "df['s_month']=df['s_time'].dt.month\n",
    "df['s_weekday']=df['s_time'].dt.weekday\n",
    "df['s_hour']=df['s_time'].dt.hour\n",
    "\n",
    "# drop original time columns\n",
    "df.drop(['Start Time', 'End Time'], axis=1, inplace=True)\n",
    "\n",
    "df.head(3)"
   ]
  },
  {
   "cell_type": "markdown",
   "id": "b4ae32f6",
   "metadata": {},
   "source": [
    "#### Task1: What is the most popular month for start time?"
   ]
  },
  {
   "cell_type": "code",
   "execution_count": 10,
   "id": "aca08c2f",
   "metadata": {},
   "outputs": [
    {
     "data": {
      "text/plain": [
       "s_month\n",
       "6    2635721\n",
       "5    2209083\n",
       "4    1950220\n",
       "2    1184293\n",
       "3    1126472\n",
       "1    1013422\n",
       "Name: s_month, dtype: int64"
      ]
     },
     "execution_count": 10,
     "metadata": {},
     "output_type": "execute_result"
    }
   ],
   "source": [
    "df_month = df['s_month'].groupby(by=df['s_month']).count().sort_values(ascending=False)\n",
    "df_month"
   ]
  },
  {
   "cell_type": "markdown",
   "id": "659d3100",
   "metadata": {},
   "source": [
    "#### The most popular month is June."
   ]
  },
  {
   "cell_type": "markdown",
   "id": "741455ce",
   "metadata": {},
   "source": [
    "#### Task2: What is the most popular day of week (Monday, Tuesday, etc.) for start time?"
   ]
  },
  {
   "cell_type": "code",
   "execution_count": 23,
   "id": "09d1e358",
   "metadata": {},
   "outputs": [
    {
     "ename": "AttributeError",
     "evalue": "'numpy.int64' object has no attribute 'day_name'",
     "output_type": "error",
     "traceback": [
      "\u001b[1;31m---------------------------------------------------------------------------\u001b[0m",
      "\u001b[1;31mAttributeError\u001b[0m                            Traceback (most recent call last)",
      "\u001b[1;32mC:\\Users\\PXPXZ_~1\\AppData\\Local\\Temp/ipykernel_20816/282335228.py\u001b[0m in \u001b[0;36m<module>\u001b[1;34m\u001b[0m\n\u001b[0;32m      1\u001b[0m \u001b[0mdf_weekday\u001b[0m \u001b[1;33m=\u001b[0m \u001b[0mdf\u001b[0m\u001b[1;33m[\u001b[0m\u001b[1;34m's_weekday'\u001b[0m\u001b[1;33m]\u001b[0m\u001b[1;33m.\u001b[0m\u001b[0mgroupby\u001b[0m\u001b[1;33m(\u001b[0m\u001b[0mby\u001b[0m\u001b[1;33m=\u001b[0m\u001b[0mdf\u001b[0m\u001b[1;33m[\u001b[0m\u001b[1;34m's_weekday'\u001b[0m\u001b[1;33m]\u001b[0m\u001b[1;33m)\u001b[0m\u001b[1;33m.\u001b[0m\u001b[0mcount\u001b[0m\u001b[1;33m(\u001b[0m\u001b[1;33m)\u001b[0m\u001b[1;33m.\u001b[0m\u001b[0msort_values\u001b[0m\u001b[1;33m(\u001b[0m\u001b[0mascending\u001b[0m\u001b[1;33m=\u001b[0m\u001b[1;32mFalse\u001b[0m\u001b[1;33m)\u001b[0m\u001b[1;33m\u001b[0m\u001b[1;33m\u001b[0m\u001b[0m\n\u001b[1;32m----> 2\u001b[1;33m \u001b[0mdf_weekday\u001b[0m\u001b[1;33m.\u001b[0m\u001b[0mindex\u001b[0m\u001b[1;33m[\u001b[0m\u001b[1;36m0\u001b[0m\u001b[1;33m]\u001b[0m\u001b[1;33m.\u001b[0m\u001b[0mday_name\u001b[0m\u001b[1;33m(\u001b[0m\u001b[1;33m)\u001b[0m\u001b[1;33m\u001b[0m\u001b[1;33m\u001b[0m\u001b[0m\n\u001b[0m",
      "\u001b[1;31mAttributeError\u001b[0m: 'numpy.int64' object has no attribute 'day_name'"
     ]
    }
   ],
   "source": [
    "df_weekday = df['s_weekday'].groupby(by=df['s_weekday']).count().sort_values(ascending=False)\n",
    "df_weekday"
   ]
  },
  {
   "cell_type": "markdown",
   "id": "1459ac0c",
   "metadata": {},
   "source": [
    "#### The most popular day of week is Monday."
   ]
  },
  {
   "cell_type": "markdown",
   "id": "bd6c9b70",
   "metadata": {},
   "source": [
    "#### Task3: What is the most popular hour of day for start time?"
   ]
  },
  {
   "cell_type": "code",
   "execution_count": 12,
   "id": "c947131d",
   "metadata": {},
   "outputs": [
    {
     "data": {
      "text/plain": [
       "s_hour\n",
       "17    948086\n",
       "8     876159\n",
       "18    832063\n",
       "16    686169\n",
       "9     623896\n",
       "7     575330\n",
       "19    564707\n",
       "15    564231\n",
       "12    558448\n",
       "14    525805\n",
       "13    508573\n",
       "11    490686\n",
       "10    457430\n",
       "20    373105\n",
       "6     329026\n",
       "21    259113\n",
       "22    190042\n",
       "5     187773\n",
       "23    120699\n",
       "1     105744\n",
       "4     101240\n",
       "2      87575\n",
       "3      84708\n",
       "0      68603\n",
       "Name: s_hour, dtype: int64"
      ]
     },
     "execution_count": 12,
     "metadata": {},
     "output_type": "execute_result"
    }
   ],
   "source": [
    "df_hour = df['s_hour'].groupby(by=df['s_hour']).count().sort_values(ascending=False)\n",
    "df_hour"
   ]
  },
  {
   "cell_type": "markdown",
   "id": "475648db",
   "metadata": {},
   "source": [
    "#### The most popular hour of day is 17:00."
   ]
  },
  {
   "cell_type": "markdown",
   "id": "8c188a15",
   "metadata": {},
   "source": [
    "#### Task4: What is the total trip duration and average trip duration?"
   ]
  },
  {
   "cell_type": "code",
   "execution_count": 13,
   "id": "ae956e6f",
   "metadata": {},
   "outputs": [
    {
     "name": "stdout",
     "output_type": "stream",
     "text": [
      "Total trip duration = 10213563095 seconds\n"
     ]
    }
   ],
   "source": [
    "total_duration = df['Trip Duration'].sum()\n",
    "print(f'Total trip duration = {round(total_duration)} seconds')"
   ]
  },
  {
   "cell_type": "code",
   "execution_count": 14,
   "id": "7c7118bd",
   "metadata": {},
   "outputs": [
    {
     "name": "stdout",
     "output_type": "stream",
     "text": [
      "Average trip duration = 1009 seconds\n"
     ]
    }
   ],
   "source": [
    "avg_duration = df['Trip Duration'].mean()\n",
    "print(f'Average trip duration = {round(avg_duration)} seconds')"
   ]
  },
  {
   "cell_type": "markdown",
   "id": "19d8319e",
   "metadata": {},
   "source": [
    "#### Task5: What is the most popular start station and most popular end station?"
   ]
  },
  {
   "cell_type": "code",
   "execution_count": 15,
   "id": "d11682d2",
   "metadata": {},
   "outputs": [
    {
     "data": {
      "text/plain": [
       "Start Station\n",
       "Pershing Square North             71108\n",
       "E 17 St & Broadway                48311\n",
       "Broadway & E 22 St                48044\n",
       "W 21 St & 6 Ave                   46068\n",
       "West St & Chambers St             43716\n",
       "                                  ...  \n",
       "Ashland Ave & 66th St                 2\n",
       "NYCBS Depot - STY - Valet Scan        2\n",
       "May St & 69th St                      2\n",
       "State St & 76th St                    2\n",
       "Ashland Ave & Garfield Blvd           1\n",
       "Name: Start Station, Length: 1713, dtype: int64"
      ]
     },
     "execution_count": 15,
     "metadata": {},
     "output_type": "execute_result"
    }
   ],
   "source": [
    "df_s_station = df['Start Station'].groupby(by=df['Start Station']).count().sort_values(ascending=False)\n",
    "df_s_station"
   ]
  },
  {
   "cell_type": "code",
   "execution_count": 16,
   "id": "9069a1c8",
   "metadata": {},
   "outputs": [
    {
     "data": {
      "text/plain": [
       "End Station\n",
       "Pershing Square North     70048\n",
       "Broadway & E 22 St        52409\n",
       "E 17 St & Broadway        51587\n",
       "W 21 St & 6 Ave           46686\n",
       "West St & Chambers St     45825\n",
       "                          ...  \n",
       "Phillips Ave & 79th St        2\n",
       "State St & 76th St            1\n",
       "JC Medical Center             1\n",
       "E 15 St & Irving Pl           1\n",
       "Jersey & 3rd                  1\n",
       "Name: End Station, Length: 1731, dtype: int64"
      ]
     },
     "execution_count": 16,
     "metadata": {},
     "output_type": "execute_result"
    }
   ],
   "source": [
    "df_e_station = df['End Station'].groupby(by=df['End Station']).count().sort_values(ascending=False)\n",
    "df_e_station"
   ]
  },
  {
   "cell_type": "code",
   "execution_count": 17,
   "id": "b35ba8c0",
   "metadata": {},
   "outputs": [
    {
     "name": "stdout",
     "output_type": "stream",
     "text": [
      "The most popular start station is Pershing Square North.\n",
      "The most popular end station is Pershing Square North.\n"
     ]
    }
   ],
   "source": [
    "print(f\"The most popular start station is {df_s_station.index[0]}.\")\n",
    "print(f\"The most popular end station is {df_e_station.index[0]}.\")"
   ]
  },
  {
   "cell_type": "markdown",
   "id": "18b8d9a8",
   "metadata": {},
   "source": [
    "#### Task6: What is the most popular trip?"
   ]
  },
  {
   "cell_type": "code",
   "execution_count": 18,
   "id": "786ccbc8",
   "metadata": {},
   "outputs": [
    {
     "data": {
      "text/plain": [
       "Start Station                                          End Station                                          \n",
       "Lake Shore Dr & Monroe St                              Streeter Dr & Grand Ave                                  4647\n",
       "Jefferson Dr & 14th St SW                              Jefferson Dr & 14th St SW                                4047\n",
       "Streeter Dr & Grand Ave                                Streeter Dr & Grand Ave                                  3853\n",
       "E 7 St & Avenue A                                      Cooper Square & E 7 St                                   3641\n",
       "Smithsonian-National Mall / Jefferson Dr & 12th St SW  Smithsonian-National Mall / Jefferson Dr & 12th St SW    3370\n",
       "                                                                                                                ... \n",
       "Graham Ave & Herbert St                                8 Ave & W 16 St                                             1\n",
       "                                                       9 St & 44 Rd                                                1\n",
       "                                                       Allen St & Hester St                                        1\n",
       "                                                       Allen St & Rivington St                                     1\n",
       "Carroll St & Bond St                                   E 17 St & Broadway                                          1\n",
       "Length: 358094, dtype: int64"
      ]
     },
     "execution_count": 18,
     "metadata": {},
     "output_type": "execute_result"
    }
   ],
   "source": [
    "df_trip = df.groupby(['Start Station','End Station']).size().sort_values(ascending=False)\n",
    "df_trip"
   ]
  },
  {
   "cell_type": "code",
   "execution_count": 19,
   "id": "73e7cc1e",
   "metadata": {},
   "outputs": [],
   "source": [
    "# transform index into normal columns\n",
    "df_trip = df_trip.reset_index()"
   ]
  },
  {
   "cell_type": "code",
   "execution_count": 20,
   "id": "fe7bd3a0",
   "metadata": {},
   "outputs": [
    {
     "name": "stdout",
     "output_type": "stream",
     "text": [
      "The most popular trip is start at Streeter Dr & Grand Ave and end at 4647.\n"
     ]
    }
   ],
   "source": [
    "print(f\"The most popular trip is start at {df_trip.iloc[0,1]} and end at {df_trip.iloc[0,2]}.\")"
   ]
  },
  {
   "cell_type": "markdown",
   "id": "d2cf7199",
   "metadata": {},
   "source": [
    "#### Task7: What are the counts of each user type?\n"
   ]
  },
  {
   "cell_type": "code",
   "execution_count": 21,
   "id": "b3c4421d",
   "metadata": {},
   "outputs": [],
   "source": [
    "df_user_type = df.groupby(df['User Type']).size()"
   ]
  },
  {
   "cell_type": "code",
   "execution_count": 22,
   "id": "c2687b09",
   "metadata": {},
   "outputs": [
    {
     "name": "stdout",
     "output_type": "stream",
     "text": [
      "counts of Customer is 1463607.\n",
      "counts of Dependent is 4.\n",
      "counts of Subscriber is 8639691.\n"
     ]
    }
   ],
   "source": [
    "print(f\"counts of Customer is {df_user_type['Customer']}.\")\n",
    "print(f\"counts of Dependent is {df_user_type['Dependent']}.\")\n",
    "print(f\"counts of Subscriber is {df_user_type['Subscriber']}.\")"
   ]
  },
  {
   "cell_type": "code",
   "execution_count": null,
   "id": "b3b3fc5c",
   "metadata": {},
   "outputs": [],
   "source": []
  }
 ],
 "metadata": {
  "kernelspec": {
   "display_name": "Python 3 (ipykernel)",
   "language": "python",
   "name": "python3"
  },
  "language_info": {
   "codemirror_mode": {
    "name": "ipython",
    "version": 3
   },
   "file_extension": ".py",
   "mimetype": "text/x-python",
   "name": "python",
   "nbconvert_exporter": "python",
   "pygments_lexer": "ipython3",
   "version": "3.9.7"
  }
 },
 "nbformat": 4,
 "nbformat_minor": 5
}

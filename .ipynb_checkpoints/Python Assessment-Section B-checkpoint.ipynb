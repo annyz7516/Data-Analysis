{
 "cells": [
  {
   "cell_type": "markdown",
   "id": "762646c4",
   "metadata": {},
   "source": [
    "#### Import libraries"
   ]
  },
  {
   "cell_type": "code",
   "execution_count": 1,
   "id": "7517780a",
   "metadata": {},
   "outputs": [
    {
     "data": {
      "text/html": [
       "<div>\n",
       "<style scoped>\n",
       "    .dataframe tbody tr th:only-of-type {\n",
       "        vertical-align: middle;\n",
       "    }\n",
       "\n",
       "    .dataframe tbody tr th {\n",
       "        vertical-align: top;\n",
       "    }\n",
       "\n",
       "    .dataframe thead th {\n",
       "        text-align: right;\n",
       "    }\n",
       "</style>\n",
       "<table border=\"1\" class=\"dataframe\">\n",
       "  <thead>\n",
       "    <tr style=\"text-align: right;\">\n",
       "      <th></th>\n",
       "      <th>first</th>\n",
       "      <th>mi</th>\n",
       "      <th>last</th>\n",
       "      <th>age</th>\n",
       "      <th>guid</th>\n",
       "      <th>natural</th>\n",
       "      <th>natural.1</th>\n",
       "    </tr>\n",
       "  </thead>\n",
       "  <tbody>\n",
       "    <tr>\n",
       "      <th>0</th>\n",
       "      <td>Mitchell</td>\n",
       "      <td>G</td>\n",
       "      <td>Perez</td>\n",
       "      <td>45</td>\n",
       "      <td>33242ce8-b1f6-5e09-9cb5-1b52a1ea2f8d</td>\n",
       "      <td>3</td>\n",
       "      <td>3</td>\n",
       "    </tr>\n",
       "    <tr>\n",
       "      <th>1</th>\n",
       "      <td>Kathryn</td>\n",
       "      <td>R</td>\n",
       "      <td>Carter</td>\n",
       "      <td>55</td>\n",
       "      <td>e6c38b0c-a765-5cfe-97ae-ba7221c8d1c3</td>\n",
       "      <td>2</td>\n",
       "      <td>4</td>\n",
       "    </tr>\n",
       "    <tr>\n",
       "      <th>2</th>\n",
       "      <td>Daisy</td>\n",
       "      <td>C</td>\n",
       "      <td>Vaughn</td>\n",
       "      <td>38</td>\n",
       "      <td>9fa96188-5136-59d1-b1f0-45d504dd0a01</td>\n",
       "      <td>3</td>\n",
       "      <td>0</td>\n",
       "    </tr>\n",
       "    <tr>\n",
       "      <th>3</th>\n",
       "      <td>Stanley</td>\n",
       "      <td>U</td>\n",
       "      <td>Wright</td>\n",
       "      <td>58</td>\n",
       "      <td>6f2c2b75-df73-5ad2-b73d-78e6704f85c9</td>\n",
       "      <td>0</td>\n",
       "      <td>4</td>\n",
       "    </tr>\n",
       "    <tr>\n",
       "      <th>4</th>\n",
       "      <td>Amy</td>\n",
       "      <td>W</td>\n",
       "      <td>Schmidt</td>\n",
       "      <td>51</td>\n",
       "      <td>af9670ac-d6fd-5e8f-82f1-f2a5e0c83e91</td>\n",
       "      <td>1</td>\n",
       "      <td>3</td>\n",
       "    </tr>\n",
       "  </tbody>\n",
       "</table>\n",
       "</div>"
      ],
      "text/plain": [
       "      first mi     last  age                                  guid  natural  \\\n",
       "0  Mitchell  G    Perez   45  33242ce8-b1f6-5e09-9cb5-1b52a1ea2f8d        3   \n",
       "1   Kathryn  R   Carter   55  e6c38b0c-a765-5cfe-97ae-ba7221c8d1c3        2   \n",
       "2     Daisy  C   Vaughn   38  9fa96188-5136-59d1-b1f0-45d504dd0a01        3   \n",
       "3   Stanley  U   Wright   58  6f2c2b75-df73-5ad2-b73d-78e6704f85c9        0   \n",
       "4       Amy  W  Schmidt   51  af9670ac-d6fd-5e8f-82f1-f2a5e0c83e91        1   \n",
       "\n",
       "   natural.1  \n",
       "0          3  \n",
       "1          4  \n",
       "2          0  \n",
       "3          4  \n",
       "4          3  "
      ]
     },
     "execution_count": 1,
     "metadata": {},
     "output_type": "execute_result"
    }
   ],
   "source": [
    "# Import proper library for loading csv file\n",
    "import pandas as pd\n",
    "\n",
    "# Import numpy \n",
    "import numpy as np\n",
    "\n",
    "# Import matplotlib to create plot \n",
    "from matplotlib import pyplot as plt\n",
    "\n",
    "# Open the csv file\n",
    "students = pd.read_csv('PythonStudents.csv')\n",
    "students.head()"
   ]
  },
  {
   "cell_type": "markdown",
   "id": "7eaf4812",
   "metadata": {},
   "source": [
    "#### Print student's full name "
   ]
  },
  {
   "cell_type": "code",
   "execution_count": 2,
   "id": "aae22322",
   "metadata": {},
   "outputs": [
    {
     "name": "stdout",
     "output_type": "stream",
     "text": [
      "Student's full name:\n",
      "Mitchell G Perez\n",
      "Kathryn R Carter\n",
      "Daisy C Vaughn\n",
      "Stanley U Wright\n",
      "Amy W Schmidt\n",
      "Rose M Carlson\n",
      "Dennis R Houston\n",
      "Gene D Santiago\n",
      "Richard Q Ortiz\n",
      "Trevor P McBride\n",
      "Ronald K Watts\n",
      "Pearl S Curry\n",
      "Don B Owens\n",
      "Josephine J Gonzales\n",
      "Charles I Douglas\n",
      "Jason S Anderson\n",
      "Katie A Barker\n",
      "Beatrice Z Schneider\n",
      "Jason Z Duncan\n",
      "Belle O Abbott\n",
      "Isabella Z Austin\n",
      "Nellie V Singleton\n",
      "Herman N McDonald\n",
      "Barry Q Chambers\n",
      "Troy G Brown\n",
      "Virgie W Wood\n",
      "Dominic P Daniels\n",
      "Allie B Daniels\n",
      "Wayne I McDonald\n",
      "Arthur G Williamson\n",
      "Bryan A Brooks\n",
      "Phillip Z Jensen\n",
      "Miguel D Moran\n",
      "Harry D Silva\n",
      "Irene X Spencer\n",
      "Clarence E Frank\n",
      "Allen B Lambert\n",
      "Willie S Robertson\n",
      "Dora F Walker\n",
      "Hattie L Blake\n",
      "Samuel Y Neal\n",
      "Alejandro D Garza\n",
      "Jeremy J Steele\n",
      "Jordan I Perez\n",
      "Nannie E Hampton\n",
      "Harriett Y Anderson\n",
      "Herman U Phelps\n",
      "Glen D Garza\n",
      "Ida C Wolfe\n",
      "Kathryn P Johnston\n"
     ]
    }
   ],
   "source": [
    "# Read the records from the csv file and print each student’s First name, Middle name and Last name\n",
    "name_list = students[['first','mi','last']].values.tolist()\n",
    "\n",
    "print(\"Student's full name:\")\n",
    "\n",
    "for student in name_list:\n",
    "    first_name = student[0]\n",
    "    mid_name = student[1]\n",
    "    last_name = student[2]\n",
    "    print(f'{first_name} {mid_name} {last_name}' )"
   ]
  },
  {
   "cell_type": "markdown",
   "id": "1324a5b4",
   "metadata": {},
   "source": [
    "#### Calculate the mean age of the students "
   ]
  },
  {
   "cell_type": "code",
   "execution_count": 3,
   "id": "05a585d6",
   "metadata": {},
   "outputs": [
    {
     "name": "stdout",
     "output_type": "stream",
     "text": [
      "The mean age of the students is 40.56\n"
     ]
    }
   ],
   "source": [
    "# Calculate the mean age of the students \n",
    "age_mean = students['age'].mean()\n",
    "print(f'The mean age of the students is {age_mean}')"
   ]
  },
  {
   "cell_type": "markdown",
   "id": "6753b982",
   "metadata": {},
   "source": [
    "#### Create a line plot "
   ]
  },
  {
   "cell_type": "code",
   "execution_count": 4,
   "id": "a2a7ae8e",
   "metadata": {},
   "outputs": [
    {
     "data": {
      "text/plain": [
       "array([0.65847507, 0.96512733, 0.71604026, 0.23591051, 0.33510522,\n",
       "       0.2482153 , 0.74763703, 0.22591475, 0.76904203, 0.75292163,\n",
       "       0.70427492])"
      ]
     },
     "execution_count": 4,
     "metadata": {},
     "output_type": "execute_result"
    }
   ],
   "source": [
    "# Use a sample numpy array of your own and create a line plot and add any color to it.\n",
    "my_array_x = np.array([0,1,2,3,4,5,6,7,8,9,10])\n",
    "my_array_y = np.random.rand(11)\n",
    "my_array_y"
   ]
  },
  {
   "cell_type": "code",
   "execution_count": 10,
   "id": "be3a7435",
   "metadata": {},
   "outputs": [
    {
     "data": {
      "image/png": "[encoded data removed]",
      "text/plain": [
       "<Figure size 432x288 with 1 Axes>"
      ]
     },
     "metadata": {
      "needs_background": "light"
     },
     "output_type": "display_data"
    }
   ],
   "source": [
    "plt.plot(my_array_x,my_array_y)\n",
    "plt.xlabel('axis_x', color='green')\n",
    "plt.ylabel('axis_y', color='red')\n",
    "plt.title('My Line Plot', fontname='Comic Sans MS')\n",
    "plt.show()"
   ]
  },
  {
   "cell_type": "code",
   "execution_count": null,
   "id": "9348c3c0",
   "metadata": {},
   "outputs": [],
   "source": []
  }
 ],
 "metadata": {
  "kernelspec": {
   "display_name": "Python 3 (ipykernel)",
   "language": "python",
   "name": "python3"
  },
  "language_info": {
   "codemirror_mode": {
    "name": "ipython",
    "version": 3
   },
   "file_extension": ".py",
   "mimetype": "text/x-python",
   "name": "python",
   "nbconvert_exporter": "python",
   "pygments_lexer": "ipython3",
   "version": "3.9.7"
  }
 },
 "nbformat": 4,
 "nbformat_minor": 5
}
